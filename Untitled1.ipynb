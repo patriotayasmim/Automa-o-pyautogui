{
 "cells": [
  {
   "cell_type": "code",
   "execution_count": 37,
   "id": "6a8e61a0-7209-44e9-9c6f-a0c6995b1ebf",
   "metadata": {},
   "outputs": [],
   "source": [
    "import os\n",
    "import pyautogui\n",
    "import time\n",
    "\n",
    "file_path = r\"C:\\Users\\yasmi\\formpyautogui2\\form.html\"\n",
    "os.system(f'start chrome \"{file_path}\"')\n",
    "pyautogui.press(\"tab\")\n",
    "time.sleep(0.9)\n",
    "pyautogui.press(\"tab\")\n",
    "pyautogui.typewrite(\"Yasmim\", interval = 0.16)\n",
    "pyautogui.press(\"tab\")\n",
    "time.sleep(0.9)\n",
    "pyautogui.write(\"yasmimv.patriota@gmail.com\")\n",
    "pyautogui.press(\"tab\")\n",
    "time.sleep(0.9)\n",
    "pyautogui.write(\"abcdefg\")\n",
    "pyautogui.press(\"tab\")\n",
    "time.sleep(0.9)\n",
    "pyautogui.write(\"12345\")\n",
    "pyautogui.press(\"tab\")\n",
    "pyautogui.press(\"space\")\n",
    "time.sleep(0.9)\n",
    "pyautogui.press(\"tab\")\n",
    "time.sleep(0.9)\n",
    "pyautogui.press(\"enter\")\n",
    "time.sleep(5)\n",
    "\n",
    "pyautogui.typewrite(\"Yasmim\", interval = 0.16)\n",
    "pyautogui.press(\"tab\")\n",
    "time.sleep(0.9)\n",
    "pyautogui.write(\"yasmimv.patriota@gmail.com\")\n",
    "pyautogui.press(\"tab\")\n",
    "time.sleep(0.9)\n",
    "pyautogui.hotkey(\"shift\", \"tab\")\n",
    "pyautogui.hotkey(\"shift\", \"tab\") \n",
    "pyautogui.press(\"backspace\")\n",
    "time.sleep(0.9)\n",
    "pyautogui.write(\"12345678901\")\n",
    "pyautogui.press(\"tab\")\n",
    "time.sleep(0.9)\n",
    "pyautogui.write(\"12345\")\n",
    "pyautogui.press(\"tab\")\n",
    "pyautogui.press(\"space\")\n",
    "time.sleep(0.9)\n",
    "pyautogui.press(\"tab\")\n",
    "time.sleep(0.9)\n",
    "pyautogui.press(\"enter\")\n"
   ]
  },
  {
   "cell_type": "code",
   "execution_count": null,
   "id": "ea5ed9ff-0346-41f0-bb81-eadc007226bf",
   "metadata": {},
   "outputs": [],
   "source": []
  }
 ],
 "metadata": {
  "kernelspec": {
   "display_name": "Python 3 (ipykernel)",
   "language": "python",
   "name": "python3"
  },
  "language_info": {
   "codemirror_mode": {
    "name": "ipython",
    "version": 3
   },
   "file_extension": ".py",
   "mimetype": "text/x-python",
   "name": "python",
   "nbconvert_exporter": "python",
   "pygments_lexer": "ipython3",
   "version": "3.11.7"
  }
 },
 "nbformat": 4,
 "nbformat_minor": 5
}
